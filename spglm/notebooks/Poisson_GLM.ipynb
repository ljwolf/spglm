{
 "cells": [
  {
   "cell_type": "code",
   "execution_count": 1,
   "metadata": {},
   "outputs": [],
   "source": [
    "from spglm.api import GLM, Poisson\n",
    "import libpysal.api as ps\n",
    "import numpy as np"
   ]
  },
  {
   "cell_type": "code",
   "execution_count": 2,
   "metadata": {},
   "outputs": [],
   "source": [
    "#Load sample dataset - columbus dataset \n",
    "db = ps.open(ps.get_path('columbus.dbf'),'r')\n",
    "\n",
    "#Set dependent variable\n",
    "y = np.array(db.by_col(\"HOVAL\"))\n",
    "y = np.reshape(y, (49,1))\n",
    "#Round dependent variable and convert to integer for the example since Poisson is for discrete data\n",
    "y = np.round(y).astype(int)\n",
    "\n",
    "#Set indepdent varibLES\n",
    "X = []\n",
    "X.append(db.by_col(\"INC\"))\n",
    "X.append(db.by_col(\"CRIME\"))\n",
    "X = np.array(X).T"
   ]
  },
  {
   "cell_type": "code",
   "execution_count": 4,
   "metadata": {},
   "outputs": [],
   "source": [
    "#Estimate Poisson GLM\n",
    "\n",
    "#First instantiate a GLM model object\n",
    "model = GLM(y, X, family=Poisson()) #Set family to Poisson family object for Poisson GLM\n",
    "\n",
    "#Then use the fit method to estimate coefficients and compute diagnostics\n",
    "results = model.fit()"
   ]
  },
  {
   "cell_type": "code",
   "execution_count": 5,
   "metadata": {},
   "outputs": [
    {
     "name": "stdout",
     "output_type": "stream",
     "text": [
      "[ 3.92159085  0.01183491 -0.01371397]\n"
     ]
    }
   ],
   "source": [
    "#Estimated prameters, intercept is always the first column on the left\n",
    "print(results.params)"
   ]
  },
  {
   "cell_type": "code",
   "execution_count": 6,
   "metadata": {},
   "outputs": [
    {
     "name": "stdout",
     "output_type": "stream",
     "text": [
      "[0.13049161 0.00511599 0.00193769]\n"
     ]
    }
   ],
   "source": [
    "#Parameter standard errors\n",
    "print(results.bse)"
   ]
  },
  {
   "cell_type": "code",
   "execution_count": 7,
   "metadata": {},
   "outputs": [
    {
     "name": "stdout",
     "output_type": "stream",
     "text": [
      "[30.0524361   2.31331634 -7.07748998]\n"
     ]
    }
   ],
   "source": [
    "#Parameter t-values\n",
    "print(results.tvalues)"
   ]
  },
  {
   "cell_type": "code",
   "execution_count": 8,
   "metadata": {},
   "outputs": [
    {
     "name": "stdout",
     "output_type": "stream",
     "text": [
      "500.8518417993879\n"
     ]
    }
   ],
   "source": [
    "#Model AIC\n",
    "print(results.aic)"
   ]
  }
 ],
 "metadata": {
  "kernelspec": {
   "display_name": "Python [Root]",
   "language": "python",
   "name": "Python [Root]"
  },
  "language_info": {
   "codemirror_mode": {
    "name": "ipython",
    "version": 2
   },
   "file_extension": ".py",
   "mimetype": "text/x-python",
   "name": "python",
   "nbconvert_exporter": "python",
   "pygments_lexer": "ipython2",
   "version": "2.7.12"
  }
 },
 "nbformat": 4,
 "nbformat_minor": 1
}
