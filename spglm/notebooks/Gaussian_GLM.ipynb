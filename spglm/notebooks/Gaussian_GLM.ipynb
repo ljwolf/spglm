{
 "cells": [
  {
   "cell_type": "code",
   "execution_count": 1,
   "metadata": {},
   "outputs": [],
   "source": [
    "from spglm.api import GLM\n",
    "import libpysal.api as ps\n",
    "import numpy as np"
   ]
  },
  {
   "cell_type": "code",
   "execution_count": 2,
   "metadata": {},
   "outputs": [],
   "source": [
    "#Load sample dataset - columbus dataset \n",
    "db = ps.open(ps.get_path('columbus.dbf'),'r')\n",
    "\n",
    "#Set dependent variable\n",
    "y = np.array(db.by_col(\"HOVAL\"))\n",
    "y = np.reshape(y, (49,1))\n",
    "\n",
    "#Set indepdent varibLES\n",
    "X = []\n",
    "X.append(db.by_col(\"INC\"))\n",
    "X.append(db.by_col(\"CRIME\"))\n",
    "X = np.array(X).T"
   ]
  },
  {
   "cell_type": "code",
   "execution_count": 3,
   "metadata": {},
   "outputs": [],
   "source": [
    "#Estimate Gaussian GLM\n",
    "\n",
    "#First instantiate a GLM model object\n",
    "model = GLM(y, X) #Gaussian is the default family parameter so it doesn't need to be set\n",
    "\n",
    "#Then use the fit method to estimate coefficients and compute diagnostics\n",
    "results = model.fit()"
   ]
  },
  {
   "cell_type": "code",
   "execution_count": 4,
   "metadata": {},
   "outputs": [
    {
     "name": "stdout",
     "output_type": "stream",
     "text": [
      "[46.42818268  0.62898397 -0.48488854]\n"
     ]
    }
   ],
   "source": [
    "#Estimated prameters, intercept is always the first column on the left\n",
    "print(results.params)"
   ]
  },
  {
   "cell_type": "code",
   "execution_count": 5,
   "metadata": {},
   "outputs": [
    {
     "name": "stdout",
     "output_type": "stream",
     "text": [
      "[13.19175703  0.53591045  0.18267291]\n"
     ]
    }
   ],
   "source": [
    "#Parameter standard errors\n",
    "print(results.bse)"
   ]
  },
  {
   "cell_type": "code",
   "execution_count": 6,
   "metadata": {},
   "outputs": [
    {
     "name": "stdout",
     "output_type": "stream",
     "text": [
      "[ 3.51948437  1.17367365 -2.65440864]\n"
     ]
    }
   ],
   "source": [
    "#Parameter t-values\n",
    "print(results.tvalues)"
   ]
  },
  {
   "cell_type": "code",
   "execution_count": 7,
   "metadata": {},
   "outputs": [
    {
     "name": "stdout",
     "output_type": "stream",
     "text": [
      "408.73548964604873\n"
     ]
    }
   ],
   "source": [
    "#Model AIC\n",
    "print(results.aic)"
   ]
  }
 ],
 "metadata": {
  "kernelspec": {
   "display_name": "Python [Root]",
   "language": "python",
   "name": "Python [Root]"
  },
  "language_info": {
   "codemirror_mode": {
    "name": "ipython",
    "version": 2
   },
   "file_extension": ".py",
   "mimetype": "text/x-python",
   "name": "python",
   "nbconvert_exporter": "python",
   "pygments_lexer": "ipython2",
   "version": "2.7.12"
  }
 },
 "nbformat": 4,
 "nbformat_minor": 1
}
